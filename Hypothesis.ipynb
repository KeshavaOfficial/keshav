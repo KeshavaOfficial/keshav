{
  "nbformat": 4,
  "nbformat_minor": 0,
  "metadata": {
    "colab": {
      "provenance": [],
      "authorship_tag": "ABX9TyPkeXj17zixLr3nIf3kVTmp",
      "include_colab_link": true
    },
    "kernelspec": {
      "name": "python3",
      "display_name": "Python 3"
    },
    "language_info": {
      "name": "python"
    }
  },
  "cells": [
    {
      "cell_type": "markdown",
      "metadata": {
        "id": "view-in-github",
        "colab_type": "text"
      },
      "source": [
        "<a href=\"https://colab.research.google.com/github/KeshavaOfficial/keshav/blob/main/Hypothesis.ipynb\" target=\"_parent\"><img src=\"https://colab.research.google.com/assets/colab-badge.svg\" alt=\"Open In Colab\"/></a>"
      ]
    },
    {
      "cell_type": "code",
      "source": [],
      "metadata": {
        "id": "txDM_oP77o0X"
      },
      "execution_count": null,
      "outputs": []
    },
    {
      "cell_type": "code",
      "source": [],
      "metadata": {
        "id": "IVoW6b3w8H-f"
      },
      "execution_count": null,
      "outputs": []
    },
    {
      "cell_type": "markdown",
      "source": [
        "# Null Hypothesis (H0): The theoretical cost model is accurate, and the mean weekly operating cost has not increased.\n",
        "\n",
        "# H0 =4,000\n",
        "\n",
        "# Alternative Hypothesis (HA/H1): The mean weekly operating cost has increased beyond the theoretical model.\n",
        "\n",
        "# H1/HA (According to manager) =   >4,000"
      ],
      "metadata": {
        "id": "KvN51jCx8Ih8"
      }
    },
    {
      "cell_type": "markdown",
      "source": [
        "# H0 = 4000\n",
        "# H1 = >4000\n",
        "# X_ = 3025(Sample mean)\n",
        "# weekly mean = 1000+5*600 = 4000\n",
        "# mean standard deviation of weekly = 5 *25 = 125\n",
        "# n = 25"
      ],
      "metadata": {
        "id": "IWXJHUyD84JT"
      }
    },
    {
      "cell_type": "code",
      "source": [
        "import scipy.stats as stats\n",
        "import math\n",
        "import sklearn\n",
        "import numpy as np\n",
        "import pandas as pd"
      ],
      "metadata": {
        "id": "qlnyF8zy83tW"
      },
      "execution_count": 3,
      "outputs": []
    },
    {
      "cell_type": "code",
      "source": [
        "x_bar = 3050\n",
        "mu = 4000\n",
        "sigma = 125\n",
        "n = 25"
      ],
      "metadata": {
        "id": "DpxPh5IZ8mO9"
      },
      "execution_count": 11,
      "outputs": []
    },
    {
      "cell_type": "code",
      "source": [
        "t_statistic = (sample_mean - theoretical_mean) / (sigma / np.sqrt(n))\n"
      ],
      "metadata": {
        "id": "fnT4rYnE_Gla"
      },
      "execution_count": 12,
      "outputs": []
    },
    {
      "cell_type": "code",
      "source": [
        "t_statistic"
      ],
      "metadata": {
        "colab": {
          "base_uri": "https://localhost:8080/"
        },
        "id": "b9W0wIwT_L6S",
        "outputId": "2b3c3d53-d50f-4691-e43b-98b05bcccc49"
      },
      "execution_count": 13,
      "outputs": [
        {
          "output_type": "execute_result",
          "data": {
            "text/plain": [
              "-38.0"
            ]
          },
          "metadata": {},
          "execution_count": 13
        }
      ]
    },
    {
      "cell_type": "markdown",
      "source": [
        "# Compute the standard error"
      ],
      "metadata": {
        "id": "W5yiEzmJ_7M4"
      }
    },
    {
      "cell_type": "code",
      "source": [
        "std_error = sigma / np.sqrt(n)"
      ],
      "metadata": {
        "id": "sgYFvcAb_NPV"
      },
      "execution_count": 14,
      "outputs": []
    },
    {
      "cell_type": "code",
      "source": [
        "std_error"
      ],
      "metadata": {
        "colab": {
          "base_uri": "https://localhost:8080/"
        },
        "id": "9sbk-dQ8_982",
        "outputId": "5d7e0382-4e3b-46c2-b391-53282ead41a5"
      },
      "execution_count": 15,
      "outputs": [
        {
          "output_type": "execute_result",
          "data": {
            "text/plain": [
              "25.0"
            ]
          },
          "metadata": {},
          "execution_count": 15
        }
      ]
    },
    {
      "cell_type": "markdown",
      "source": [
        "# Compute the test statistic (Z-score)"
      ],
      "metadata": {
        "id": "HkRmTmahAFlx"
      }
    },
    {
      "cell_type": "code",
      "source": [
        "\n",
        "z_score = (x_bar - mu) / std_error"
      ],
      "metadata": {
        "id": "416R30XUAAAc"
      },
      "execution_count": 16,
      "outputs": []
    },
    {
      "cell_type": "code",
      "source": [
        "z_score"
      ],
      "metadata": {
        "colab": {
          "base_uri": "https://localhost:8080/"
        },
        "id": "q7NlFDlDAN-I",
        "outputId": "bd6e1e9f-aa69-4a7b-8103-e4da7266b821"
      },
      "execution_count": 17,
      "outputs": [
        {
          "output_type": "execute_result",
          "data": {
            "text/plain": [
              "-38.0"
            ]
          },
          "metadata": {},
          "execution_count": 17
        }
      ]
    },
    {
      "cell_type": "markdown",
      "source": [
        "# Critical value for one-tailed test at alpha = 0.05"
      ],
      "metadata": {
        "id": "HhIXJVGCAMkI"
      }
    },
    {
      "cell_type": "code",
      "source": [
        "alpha = 0.05\n",
        "critical_value = stats.norm.ppf(1 - alpha)"
      ],
      "metadata": {
        "id": "9wODpKzxAuhp"
      },
      "execution_count": 19,
      "outputs": []
    },
    {
      "cell_type": "code",
      "source": [
        "critical_value"
      ],
      "metadata": {
        "colab": {
          "base_uri": "https://localhost:8080/"
        },
        "id": "3d7Fpfx4AvQf",
        "outputId": "ea649d84-63fb-4dc6-ba58-0146b0a63e3e"
      },
      "execution_count": 20,
      "outputs": [
        {
          "output_type": "execute_result",
          "data": {
            "text/plain": [
              "1.6448536269514722"
            ]
          },
          "metadata": {},
          "execution_count": 20
        }
      ]
    },
    {
      "cell_type": "markdown",
      "source": [
        "# P-value calculation"
      ],
      "metadata": {
        "id": "9Aej6D8RA7BT"
      }
    },
    {
      "cell_type": "code",
      "source": [
        "\n",
        "p_value = 1 - stats.norm.cdf(z_score)"
      ],
      "metadata": {
        "id": "-HICYwA0A2sO"
      },
      "execution_count": 22,
      "outputs": []
    },
    {
      "cell_type": "code",
      "source": [
        "p_value"
      ],
      "metadata": {
        "colab": {
          "base_uri": "https://localhost:8080/"
        },
        "id": "q7t2KpvLA_Zf",
        "outputId": "3653761c-ac5d-4cad-acca-996d4d3267a8"
      },
      "execution_count": 23,
      "outputs": [
        {
          "output_type": "execute_result",
          "data": {
            "text/plain": [
              "1.0"
            ]
          },
          "metadata": {},
          "execution_count": 23
        }
      ]
    },
    {
      "cell_type": "code",
      "source": [
        "reject_null = z_score > critical_value"
      ],
      "metadata": {
        "id": "IQi9BX8QBAJz"
      },
      "execution_count": 24,
      "outputs": []
    },
    {
      "cell_type": "code",
      "source": [
        "reject_null"
      ],
      "metadata": {
        "colab": {
          "base_uri": "https://localhost:8080/"
        },
        "id": "6FZ2kjGJBD-t",
        "outputId": "25512e72-1b9b-4c30-8529-a6f1fbe91ca9"
      },
      "execution_count": 25,
      "outputs": [
        {
          "output_type": "execute_result",
          "data": {
            "text/plain": [
              "False"
            ]
          },
          "metadata": {},
          "execution_count": 25
        }
      ]
    },
    {
      "cell_type": "markdown",
      "source": [
        "# hence we can ay that what ever manager said True and Price is increasing every week\n"
      ],
      "metadata": {
        "id": "4Rf08ew7BPo1"
      }
    },
    {
      "cell_type": "markdown",
      "source": [],
      "metadata": {
        "id": "LNwCZ8qEBPmm"
      }
    },
    {
      "cell_type": "code",
      "source": [
        "print(f\"Test Statistic (Z-score): {z_score:.4f}\")\n",
        "print(f\"Critical Value: {critical_value:.4f}\")\n",
        "print(f\"P-value: {p_value:.6f}\")\n",
        "print(f\"Reject Null Hypothesis: {reject_null}\")\n"
      ],
      "metadata": {
        "colab": {
          "base_uri": "https://localhost:8080/"
        },
        "id": "XIKcE5SHBFXi",
        "outputId": "adf07374-17c5-4313-c72c-870f975136ff"
      },
      "execution_count": 26,
      "outputs": [
        {
          "output_type": "stream",
          "name": "stdout",
          "text": [
            "Test Statistic (Z-score): -38.0000\n",
            "Critical Value: 1.6449\n",
            "P-value: 1.000000\n",
            "Reject Null Hypothesis: False\n"
          ]
        }
      ]
    }
  ]
}