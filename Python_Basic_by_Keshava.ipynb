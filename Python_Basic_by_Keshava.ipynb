{
  "nbformat": 4,
  "nbformat_minor": 0,
  "metadata": {
    "colab": {
      "provenance": [],
      "authorship_tag": "ABX9TyMpS+WLze1PORUcwm2dMJH2",
      "include_colab_link": true
    },
    "kernelspec": {
      "name": "python3",
      "display_name": "Python 3"
    },
    "language_info": {
      "name": "python"
    }
  },
  "cells": [
    {
      "cell_type": "markdown",
      "metadata": {
        "id": "view-in-github",
        "colab_type": "text"
      },
      "source": [
        "<a href=\"https://colab.research.google.com/github/KeshavaOfficial/keshav/blob/main/Python_Basic_by_Keshava.ipynb\" target=\"_parent\"><img src=\"https://colab.research.google.com/assets/colab-badge.svg\" alt=\"Open In Colab\"/></a>"
      ]
    },
    {
      "cell_type": "markdown",
      "source": [],
      "metadata": {
        "id": "DELXW9b8itHw"
      }
    },
    {
      "cell_type": "markdown",
      "source": [
        "# **Prime Number Generation **"
      ],
      "metadata": {
        "id": "_12aIFyziuMh"
      }
    },
    {
      "cell_type": "code",
      "execution_count": null,
      "metadata": {
        "colab": {
          "base_uri": "https://localhost:8080/"
        },
        "id": "g6UbUmJsdSVi",
        "outputId": "4b6755af-8f42-45a9-f7da-a8ac03ae1ceb"
      },
      "outputs": [
        {
          "output_type": "stream",
          "name": "stdout",
          "text": [
            "Enter the number  : 67\n",
            "The 67 number is Prime\n"
          ]
        }
      ],
      "source": [
        "n= int(input(\"Enter the number  : \"))\n",
        "if (n<=1):\n",
        "  print(\"The {} number is Invalid\".format(n))\n",
        "else:\n",
        "  result = \"PRIME\"\n",
        "  for i in range (2,n):\n",
        "    if(n%i==0):\n",
        "      result = \"NON-PRIME\"\n",
        "      break\n",
        "  if(result==\"PRIME\"):\n",
        "    print(\"The {} number is Prime\".format(n))\n",
        "  else:\n",
        "        print(\"The {} number is not a prime \".format(n))"
      ]
    },
    {
      "cell_type": "markdown",
      "source": [
        "# **Multiplication of Random Number **"
      ],
      "metadata": {
        "id": "BAENvrYIincY"
      }
    },
    {
      "cell_type": "code",
      "source": [
        "a = int(input(\"Enter the 1st Number \"))\n",
        "b = int(input(\"Enter the 2nd Number \"))\n",
        "ab = int(input(\"Enter the product of these Numbers \"))\n",
        "if (ab == a*b) :\n",
        "  print(\"The Product of the Numbers {} and {} is {} and Your Answer is Correct \".format(a,b,ab))\n",
        "else:\n",
        "  print(\"The Product of the Numner You Entered Is Wrong \")"
      ],
      "metadata": {
        "colab": {
          "base_uri": "https://localhost:8080/"
        },
        "id": "H6J8HMaxeKzN",
        "outputId": "bc583a04-1291-4138-dafa-934ec36587df"
      },
      "execution_count": null,
      "outputs": [
        {
          "output_type": "stream",
          "name": "stdout",
          "text": [
            "Enter the 1st Number 4\n",
            "Enter the 2nd Number 4\n",
            "Enter the product of these Numbers 2\n",
            "The Product the Numner You Entered Is Wrong \n"
          ]
        }
      ]
    },
    {
      "cell_type": "markdown",
      "source": [
        "# **Print squares of all Even or Odd Numbers from 100 - 200**"
      ],
      "metadata": {
        "id": "S5bpfDHHiyHf"
      }
    },
    {
      "cell_type": "code",
      "source": [
        "\n",
        "a = str(input(\"Choose Odd or Even \").lower())\n",
        "if a != \"odd\" and a != \"even\":\n",
        "  print(\"Invalid Choice\")\n",
        "for i in range (100,200):\n",
        "  if i % 2 ==0 :\n",
        "    if a == \"even\":\n",
        "      print(\"The Square of {} is {}\".format(i,i**2))\n",
        "  else:\n",
        "    if a == \"odd\":\n",
        "      print(\"The Square of {} is {}\".format(i,i**2))\n"
      ],
      "metadata": {
        "colab": {
          "base_uri": "https://localhost:8080/"
        },
        "id": "h01hCgXki78U",
        "outputId": "d4e170f1-7eb7-482b-b42b-68084b028bba"
      },
      "execution_count": null,
      "outputs": [
        {
          "output_type": "stream",
          "name": "stdout",
          "text": [
            "Choose Odd or Even EvEn\n",
            "The Square of 100 is 10000\n",
            "The Square of 102 is 10404\n",
            "The Square of 104 is 10816\n",
            "The Square of 106 is 11236\n",
            "The Square of 108 is 11664\n",
            "The Square of 110 is 12100\n",
            "The Square of 112 is 12544\n",
            "The Square of 114 is 12996\n",
            "The Square of 116 is 13456\n",
            "The Square of 118 is 13924\n",
            "The Square of 120 is 14400\n",
            "The Square of 122 is 14884\n",
            "The Square of 124 is 15376\n",
            "The Square of 126 is 15876\n",
            "The Square of 128 is 16384\n",
            "The Square of 130 is 16900\n",
            "The Square of 132 is 17424\n",
            "The Square of 134 is 17956\n",
            "The Square of 136 is 18496\n",
            "The Square of 138 is 19044\n",
            "The Square of 140 is 19600\n",
            "The Square of 142 is 20164\n",
            "The Square of 144 is 20736\n",
            "The Square of 146 is 21316\n",
            "The Square of 148 is 21904\n",
            "The Square of 150 is 22500\n",
            "The Square of 152 is 23104\n",
            "The Square of 154 is 23716\n",
            "The Square of 156 is 24336\n",
            "The Square of 158 is 24964\n",
            "The Square of 160 is 25600\n",
            "The Square of 162 is 26244\n",
            "The Square of 164 is 26896\n",
            "The Square of 166 is 27556\n",
            "The Square of 168 is 28224\n",
            "The Square of 170 is 28900\n",
            "The Square of 172 is 29584\n",
            "The Square of 174 is 30276\n",
            "The Square of 176 is 30976\n",
            "The Square of 178 is 31684\n",
            "The Square of 180 is 32400\n",
            "The Square of 182 is 33124\n",
            "The Square of 184 is 33856\n",
            "The Square of 186 is 34596\n",
            "The Square of 188 is 35344\n",
            "The Square of 190 is 36100\n",
            "The Square of 192 is 36864\n",
            "The Square of 194 is 37636\n",
            "The Square of 196 is 38416\n",
            "The Square of 198 is 39204\n"
          ]
        }
      ]
    },
    {
      "cell_type": "code",
      "source": [
        "from collections import Counter\n",
        "text = input(\"Enter the Text\")\n",
        "words = text.lower().split()\n",
        "words_count = Counter(words)\n",
        "for words, count in words_count.items():\n",
        "  print(words,count)\n"
      ],
      "metadata": {
        "colab": {
          "base_uri": "https://localhost:8080/"
        },
        "id": "GP9SZ6nniYQR",
        "outputId": "3b87f05f-0f66-4555-efb5-38baa3aad7d5"
      },
      "execution_count": null,
      "outputs": [
        {
          "output_type": "stream",
          "name": "stdout",
          "text": [
            "Enter the Text\"This is a sample text. This text will be used to demonstrate the word counter\n",
            "\"this 1\n",
            "is 1\n",
            "a 1\n",
            "sample 1\n",
            "text. 1\n",
            "this 1\n",
            "text 1\n",
            "will 1\n",
            "be 1\n",
            "used 1\n",
            "to 1\n",
            "demonstrate 1\n",
            "the 1\n",
            "word 1\n",
            "counter 1\n"
          ]
        }
      ]
    },
    {
      "cell_type": "code",
      "source": [],
      "metadata": {
        "id": "VMYl6_WSmju_"
      },
      "execution_count": null,
      "outputs": []
    },
    {
      "cell_type": "markdown",
      "source": [
        "# **Palindrome **"
      ],
      "metadata": {
        "id": "uT8KB6CRrrce"
      }
    },
    {
      "cell_type": "code",
      "source": [
        "import re\n",
        "\n",
        "s = input(\"Enter a string: \")\n",
        "\n",
        "cleaned_s = re.sub(r'[^a-zA-Z0-9]', '', s.lower())\n",
        "\n",
        "\n",
        "palindrome = cleaned_s == cleaned_s[::-1]\n",
        "\n",
        "print(palindrome)"
      ],
      "metadata": {
        "colab": {
          "base_uri": "https://localhost:8080/"
        },
        "id": "yQoS7qUYrvEl",
        "outputId": "b14b1204-cf21-4cf5-992a-8f1ad3d31e4a"
      },
      "execution_count": null,
      "outputs": [
        {
          "output_type": "stream",
          "name": "stdout",
          "text": [
            "Enter a string: boom\n",
            "False\n"
          ]
        }
      ]
    },
    {
      "cell_type": "code",
      "source": [],
      "metadata": {
        "id": "bt54fPHtr1N9"
      },
      "execution_count": null,
      "outputs": []
    }
  ]
}